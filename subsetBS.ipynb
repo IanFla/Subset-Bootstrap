{
 "cells": [
  {
   "cell_type": "code",
   "execution_count": 1,
   "metadata": {},
   "outputs": [],
   "source": [
    "from matplotlib import pyplot as plt\n",
    "import seaborn as sb\n",
    "import numpy as np\n",
    "from scipy.stats import uniform,norm,t,binom,expon,chi2,gamma,poisson,beta,dirichlet,triang\n",
    "from scipy.stats import multivariate_normal as multi_norm\n",
    "from scipy.optimize import brentq\n",
    "from scipy.special import perm,comb\n",
    "import time\n",
    "import pandas as pd"
   ]
  },
  {
   "cell_type": "code",
   "execution_count": 2,
   "metadata": {},
   "outputs": [],
   "source": [
    "def bootstrap(S,est,B,gamma=0.1,alpha=0.1):\n",
    "    parS=est(S)\n",
    "    \n",
    "    start=time.time()\n",
    "    parsBS1=np.zeros(B)\n",
    "    for i in range(B):\n",
    "        BS=np.random.choice(S,S.size)\n",
    "        parsBS1[i]=est(BS)\n",
    "    \n",
    "    interval1=(2*parS-np.quantile(parsBS1,1-alpha/2),2*parS-np.quantile(parsBS1,alpha/2))\n",
    "    end=time.time()\n",
    "    time1=end-start\n",
    "    \n",
    "    start=time.time()\n",
    "    parsBS2=np.zeros(B)\n",
    "    for i in range(B):\n",
    "        BS=np.random.choice(S,int(gamma*S.size))\n",
    "        parsBS2[i]=est(BS)\n",
    "        \n",
    "    parsBS2=parS+(parsBS2-parS)*np.sqrt(gamma)\n",
    "    interval2=(2*parS-np.quantile(parsBS2,1-alpha/2),2*parS-np.quantile(parsBS2,alpha/2))\n",
    "    end=time.time()\n",
    "    time2=end-start\n",
    "    \n",
    "    start=time.time()\n",
    "    parsBS3=np.zeros(B)\n",
    "    for i in range(B):\n",
    "        BS=np.random.choice(S,int(gamma*S.size),replace=False)\n",
    "        parsBS3[i]=est(BS)\n",
    "        \n",
    "    parsBS3=parS+(parsBS3-parS)*np.sqrt(gamma)\n",
    "    interval3=(2*parS-np.quantile(parsBS3,1-alpha/2),2*parS-np.quantile(parsBS3,alpha/2))\n",
    "    end=time.time()\n",
    "    time3=end-start\n",
    "    return interval1,interval2,interval3,parsBS1,parsBS2,parsBS3,time1,time2,time3\n",
    "\n",
    "def experiment(par,rvs,est,n=2000,B=1000,rep=100):\n",
    "    count1=0\n",
    "    count2=0\n",
    "    count3=0\n",
    "    count4=0\n",
    "    count5=0\n",
    "    count6=0\n",
    "    count11=0\n",
    "    count12=0\n",
    "    count13=0\n",
    "    count14=0\n",
    "    count15=0\n",
    "    count16=0\n",
    "    for t in range(rep):\n",
    "        S=rvs(n)\n",
    "        interval1,interval2,interval3=bootstrap(S,est,B)[0:3]\n",
    "        count1+=par>=interval1[0] and par<=interval1[1]\n",
    "        count2+=par>=interval2[0] and par<=interval2[1]\n",
    "        count3+=par>=max(interval1[0],interval2[0]) and par<=min(interval1[1],interval2[1])\n",
    "        count4+=interval2[0]>interval1[0]\n",
    "        count5+=interval2[1]<interval1[1]\n",
    "        count6+=interval2[1]-interval2[0]<interval1[1]-interval1[0]\n",
    "        \n",
    "        count11+=par>=interval1[0] and par<=interval1[1]\n",
    "        count12+=par>=interval3[0] and par<=interval3[1]\n",
    "        count13+=par>=max(interval1[0],interval3[0]) and par<=min(interval1[1],interval3[1])\n",
    "        count14+=interval3[0]>interval1[0]\n",
    "        count15+=interval3[1]<interval1[1]\n",
    "        count16+=interval3[1]-interval3[0]<interval1[1]-interval1[0]\n",
    "        \n",
    "    print('with replacement:')\n",
    "    print('original:',count1/rep,'subset:',count2/rep,'overlap:',count3/rep)\n",
    "    print('left->:',count4/rep,'right<-:',count5/rep,'smaller:',count6/rep)\n",
    "    print('without replacement:')\n",
    "    print('original:',count11/rep,'subset:',count12/rep,'overlap:',count13/rep)\n",
    "    print('left->:',count14/rep,'right<-:',count15/rep,'smaller',count16/rep)\n",
    "    \n",
    "def histogram(par,rvs,est,n=10000,B=10000,gamma=0.05,alpha=0.05):\n",
    "    S=rvs(n)\n",
    "    interval1,interval2,interval3,parsBS1,parsBS2,parsBS3,time1,time2,time3=bootstrap(S,est,B,gamma,alpha)\n",
    "    print('target parameter:',par)\n",
    "    print('sample estimate:',est(S))\n",
    "    print('original:',interval1,'time:',time1)\n",
    "    print('with replacement:',interval2,'time:',time2,'ratio:',(interval2[1]-interval2[0])/(interval1[1]-interval1[0]))\n",
    "    print('without replacement:',interval3,'time:',time3,'ratio:',(interval3[1]-interval3[0])/(interval1[1]-interval1[0]))\n",
    "    sb.histplot(2*est(S)-parsBS1,color='r',label='normal')\n",
    "    sb.histplot(2*est(S)-parsBS2,color='b',label='with replacement')\n",
    "    sb.histplot(2*est(S)-parsBS3,color='g',label='without replacement')\n",
    "    plt.legend()\n",
    "    plt.show()"
   ]
  },
  {
   "cell_type": "code",
   "execution_count": 3,
   "metadata": {},
   "outputs": [],
   "source": [
    "np.random.seed(3033079628)\n",
    "rvsTM=lambda size: np.array([np.random.choice([norm.rvs(loc=-2),norm.rvs(loc=2)]) for i in range(size)])\n",
    "cdfTM=lambda x: (norm.cdf(x=x,loc=-2)+norm.cdf(x=x,loc=2))/2\n",
    "parTM=brentq(lambda x: cdfTM(x)-0.05,-10,10)"
   ]
  },
  {
   "cell_type": "markdown",
   "metadata": {},
   "source": [
    "**mean**"
   ]
  },
  {
   "cell_type": "code",
   "execution_count": 4,
   "metadata": {},
   "outputs": [
    {
     "name": "stdout",
     "output_type": "stream",
     "text": [
      "with replacement:\n",
      "original: 0.87 subset: 0.86 overlap: 0.86\n",
      "left->: 0.47 right<-: 0.45 smaller: 0.47\n",
      "without replacement:\n",
      "original: 0.87 subset: 0.84 overlap: 0.84\n",
      "left->: 0.79 right<-: 0.74 smaller 0.92\n"
     ]
    }
   ],
   "source": [
    "experiment(norm.mean(),lambda size: norm.rvs(size=size),np.mean)"
   ]
  },
  {
   "cell_type": "code",
   "execution_count": 5,
   "metadata": {},
   "outputs": [
    {
     "name": "stdout",
     "output_type": "stream",
     "text": [
      "with replacement:\n",
      "original: 0.87 subset: 0.88 overlap: 0.87\n",
      "left->: 0.39 right<-: 0.65 smaller: 0.52\n",
      "without replacement:\n",
      "original: 0.87 subset: 0.86 overlap: 0.86\n",
      "left->: 0.69 right<-: 0.9 smaller 0.88\n"
     ]
    }
   ],
   "source": [
    "experiment(gamma.mean(a=1),lambda size: gamma.rvs(a=1,size=size),np.mean)"
   ]
  },
  {
   "cell_type": "code",
   "execution_count": 6,
   "metadata": {},
   "outputs": [
    {
     "name": "stdout",
     "output_type": "stream",
     "text": [
      "with replacement:\n",
      "original: 0.91 subset: 0.92 overlap: 0.91\n",
      "left->: 0.42 right<-: 0.46 smaller: 0.49\n",
      "without replacement:\n",
      "original: 0.91 subset: 0.9 overlap: 0.9\n",
      "left->: 0.79 right<-: 0.77 smaller 0.83\n"
     ]
    }
   ],
   "source": [
    "experiment(0,rvsTM,np.mean)"
   ]
  },
  {
   "cell_type": "markdown",
   "metadata": {},
   "source": [
    "**median**"
   ]
  },
  {
   "cell_type": "code",
   "execution_count": 7,
   "metadata": {},
   "outputs": [
    {
     "name": "stdout",
     "output_type": "stream",
     "text": [
      "with replacement:\n",
      "original: 0.89 subset: 0.88 overlap: 0.85\n",
      "left->: 0.55 right<-: 0.59 smaller: 0.58\n",
      "without replacement:\n",
      "original: 0.89 subset: 0.88 overlap: 0.85\n",
      "left->: 0.63 right<-: 0.65 smaller 0.74\n"
     ]
    }
   ],
   "source": [
    "experiment(norm.median(),lambda size: norm.rvs(size=size),np.median)"
   ]
  },
  {
   "cell_type": "code",
   "execution_count": 8,
   "metadata": {},
   "outputs": [
    {
     "name": "stdout",
     "output_type": "stream",
     "text": [
      "with replacement:\n",
      "original: 0.88 subset: 0.89 overlap: 0.87\n",
      "left->: 0.39 right<-: 0.68 smaller: 0.53\n",
      "without replacement:\n",
      "original: 0.88 subset: 0.88 overlap: 0.86\n",
      "left->: 0.55 right<-: 0.79 smaller 0.69\n"
     ]
    }
   ],
   "source": [
    "experiment(gamma.median(a=1),lambda size: gamma.rvs(a=1,size=size),np.median)"
   ]
  },
  {
   "cell_type": "code",
   "execution_count": 9,
   "metadata": {},
   "outputs": [
    {
     "name": "stdout",
     "output_type": "stream",
     "text": [
      "with replacement:\n",
      "original: 0.81 subset: 0.7 overlap: 0.7\n",
      "left->: 0.83 right<-: 0.9 smaller: 0.94\n",
      "without replacement:\n",
      "original: 0.81 subset: 0.68 overlap: 0.68\n",
      "left->: 0.91 right<-: 0.96 smaller 0.98\n"
     ]
    }
   ],
   "source": [
    "experiment(0,rvsTM,np.median)"
   ]
  },
  {
   "cell_type": "markdown",
   "metadata": {},
   "source": [
    "**std**"
   ]
  },
  {
   "cell_type": "code",
   "execution_count": 10,
   "metadata": {},
   "outputs": [
    {
     "name": "stdout",
     "output_type": "stream",
     "text": [
      "with replacement:\n",
      "original: 0.93 subset: 0.93 overlap: 0.93\n",
      "left->: 0.65 right<-: 0.35 smaller: 0.5\n",
      "without replacement:\n",
      "original: 0.93 subset: 0.92 overlap: 0.92\n",
      "left->: 0.94 right<-: 0.65 smaller 0.93\n"
     ]
    }
   ],
   "source": [
    "experiment(norm.std(),lambda size: norm.rvs(size=size),np.std)"
   ]
  },
  {
   "cell_type": "code",
   "execution_count": 11,
   "metadata": {},
   "outputs": [
    {
     "name": "stdout",
     "output_type": "stream",
     "text": [
      "with replacement:\n",
      "original: 0.93 subset: 0.92 overlap: 0.92\n",
      "left->: 0.54 right<-: 0.7 smaller: 0.67\n",
      "without replacement:\n",
      "original: 0.93 subset: 0.93 overlap: 0.93\n",
      "left->: 0.85 right<-: 0.85 smaller 0.94\n"
     ]
    }
   ],
   "source": [
    "experiment(gamma.std(a=1),lambda size: gamma.rvs(a=1,size=size),np.std)"
   ]
  },
  {
   "cell_type": "code",
   "execution_count": 12,
   "metadata": {},
   "outputs": [
    {
     "name": "stdout",
     "output_type": "stream",
     "text": [
      "with replacement:\n",
      "original: 0.86 subset: 0.87 overlap: 0.86\n",
      "left->: 0.76 right<-: 0.25 smaller: 0.49\n",
      "without replacement:\n",
      "original: 0.86 subset: 0.85 overlap: 0.85\n",
      "left->: 0.97 right<-: 0.58 smaller 0.93\n"
     ]
    }
   ],
   "source": [
    "experiment(np.sqrt(5),rvsTM,np.std)"
   ]
  },
  {
   "cell_type": "markdown",
   "metadata": {},
   "source": [
    "**variance**"
   ]
  },
  {
   "cell_type": "code",
   "execution_count": 13,
   "metadata": {},
   "outputs": [
    {
     "name": "stdout",
     "output_type": "stream",
     "text": [
      "with replacement:\n",
      "original: 0.91 subset: 0.91 overlap: 0.91\n",
      "left->: 0.51 right<-: 0.55 smaller: 0.55\n",
      "without replacement:\n",
      "original: 0.91 subset: 0.89 overlap: 0.89\n",
      "left->: 0.89 right<-: 0.87 smaller 0.93\n"
     ]
    }
   ],
   "source": [
    "experiment(norm.var(),lambda size: norm.rvs(size=size),np.var)"
   ]
  },
  {
   "cell_type": "code",
   "execution_count": 14,
   "metadata": {},
   "outputs": [
    {
     "name": "stdout",
     "output_type": "stream",
     "text": [
      "with replacement:\n",
      "original: 0.91 subset: 0.92 overlap: 0.9\n",
      "left->: 0.31 right<-: 0.91 smaller: 0.66\n",
      "without replacement:\n",
      "original: 0.91 subset: 0.91 overlap: 0.88\n",
      "left->: 0.57 right<-: 0.98 smaller 0.94\n"
     ]
    }
   ],
   "source": [
    "experiment(gamma.var(a=1),lambda size: gamma.rvs(a=1,size=size),np.var)"
   ]
  },
  {
   "cell_type": "code",
   "execution_count": 15,
   "metadata": {},
   "outputs": [
    {
     "name": "stdout",
     "output_type": "stream",
     "text": [
      "with replacement:\n",
      "original: 0.9 subset: 0.88 overlap: 0.88\n",
      "left->: 0.6 right<-: 0.39 smaller: 0.48\n",
      "without replacement:\n",
      "original: 0.9 subset: 0.87 overlap: 0.87\n",
      "left->: 0.88 right<-: 0.74 smaller 0.9\n"
     ]
    }
   ],
   "source": [
    "experiment(5,rvsTM,np.var)"
   ]
  },
  {
   "cell_type": "markdown",
   "metadata": {},
   "source": [
    "**quantile**"
   ]
  },
  {
   "cell_type": "code",
   "execution_count": 16,
   "metadata": {},
   "outputs": [
    {
     "name": "stdout",
     "output_type": "stream",
     "text": [
      "with replacement:\n",
      "original: 0.86 subset: 0.85 overlap: 0.82\n",
      "left->: 0.39 right<-: 0.62 smaller: 0.52\n",
      "without replacement:\n",
      "original: 0.86 subset: 0.85 overlap: 0.82\n",
      "left->: 0.44 right<-: 0.73 smaller 0.7\n"
     ]
    }
   ],
   "source": [
    "experiment(norm.ppf(0.05),lambda size: norm.rvs(size=size),lambda x: np.quantile(x,0.05))"
   ]
  },
  {
   "cell_type": "code",
   "execution_count": 17,
   "metadata": {},
   "outputs": [
    {
     "name": "stdout",
     "output_type": "stream",
     "text": [
      "with replacement:\n",
      "original: 0.86 subset: 0.91 overlap: 0.84\n",
      "left->: 0.11 right<-: 0.82 smaller: 0.38\n",
      "without replacement:\n",
      "original: 0.86 subset: 0.88 overlap: 0.82\n",
      "left->: 0.2 right<-: 0.89 smaller 0.52\n"
     ]
    }
   ],
   "source": [
    "experiment(gamma.ppf(0.05,a=1),lambda size: gamma.rvs(a=1,size=size),lambda x: np.quantile(x,0.05))"
   ]
  },
  {
   "cell_type": "code",
   "execution_count": 18,
   "metadata": {},
   "outputs": [
    {
     "name": "stdout",
     "output_type": "stream",
     "text": [
      "with replacement:\n",
      "original: 0.86 subset: 0.88 overlap: 0.83\n",
      "left->: 0.37 right<-: 0.7 smaller: 0.58\n",
      "without replacement:\n",
      "original: 0.86 subset: 0.85 overlap: 0.81\n",
      "left->: 0.49 right<-: 0.82 smaller 0.69\n"
     ]
    }
   ],
   "source": [
    "experiment(parTM,rvsTM,lambda x: np.quantile(x,0.05))"
   ]
  },
  {
   "cell_type": "markdown",
   "metadata": {},
   "source": [
    "**histogram**"
   ]
  },
  {
   "cell_type": "code",
   "execution_count": 19,
   "metadata": {},
   "outputs": [
    {
     "name": "stdout",
     "output_type": "stream",
     "text": [
      "target parameter: 0\n",
      "sample estimate: -0.10941180181994037\n",
      "original: (-0.4497474915780339, 0.2330681599925435) time: 0.10715436935424805\n",
      "with replacement: (-0.369745781872705, 0.14256086593772366) time: 0.06919670104980469 ratio: 0.750285449128249\n",
      "without replacement: (-0.3566867078866454, 0.13196617259729249) time: 0.10431408882141113 ratio: 0.7156439360462281\n"
     ]
    },
    {
     "data": {
      "image/png": "[encoded data removed]",
      "text/plain": [
       "<Figure size 432x288 with 1 Axes>"
      ]
     },
     "metadata": {
      "needs_background": "light"
     },
     "output_type": "display_data"
    },
    {
     "name": "stdout",
     "output_type": "stream",
     "text": [
      "target parameter: 0\n",
      "sample estimate: 0.03607884226836244\n",
      "original: (-0.048017366065540856, 0.1566230330209235) time: 0.5904278755187988\n",
      "with replacement: (-0.05235788830299401, 0.1448034864418605) time: 0.11719298362731934 ratio: 0.9634528452104424\n",
      "without replacement: (-0.053557627147781756, 0.13783308309843312) time: 0.3770020008087158 ratio: 0.9352537969071725\n"
     ]
    },
    {
     "data": {
      "image/png": "[encoded data removed]",
      "text/plain": [
       "<Figure size 432x288 with 1 Axes>"
      ]
     },
     "metadata": {
      "needs_background": "light"
     },
     "output_type": "display_data"
    }
   ],
   "source": [
    "np.random.seed(3033079628)\n",
    "\n",
    "histogram(0,rvsTM,np.median,n=2000,B=1000,gamma=0.1,alpha=0.1)\n",
    "histogram(0,rvsTM,np.median,n=20000,B=1000,gamma=0.1,alpha=0.1)"
   ]
  }
 ],
 "metadata": {
  "kernelspec": {
   "display_name": "Python 3",
   "language": "python",
   "name": "python3"
  },
  "language_info": {
   "codemirror_mode": {
    "name": "ipython",
    "version": 3
   },
   "file_extension": ".py",
   "mimetype": "text/x-python",
   "name": "python",
   "nbconvert_exporter": "python",
   "pygments_lexer": "ipython3",
   "version": "3.9.1"
  }
 },
 "nbformat": 4,
 "nbformat_minor": 4
}
