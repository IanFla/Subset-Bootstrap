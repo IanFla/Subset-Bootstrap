{
 "cells": [
  {
   "cell_type": "code",
   "execution_count": 1,
   "metadata": {},
   "outputs": [],
   "source": [
    "from matplotlib import pyplot as plt\n",
    "import seaborn as sb\n",
    "import numpy as np\n",
    "from scipy.stats import uniform,norm,t,binom,expon,chi2,gamma,poisson,beta,dirichlet,triang\n",
    "from scipy.stats import multivariate_normal as multi_norm\n",
    "from scipy.optimize import brentq\n",
    "from scipy.special import perm,comb\n",
    "import time\n",
    "import pandas as pd"
   ]
  },
  {
   "cell_type": "code",
   "execution_count": 2,
   "metadata": {},
   "outputs": [],
   "source": [
    "def bootstrap(S,est,BN,rate=0.1,alpha=0.1,k=1):\n",
    "    parS=est(S)\n",
    "    \n",
    "    start=time.time()\n",
    "    parsBS1=np.zeros(BN)\n",
    "    for i in range(BN):\n",
    "        BS=np.random.choice(S,S.size)\n",
    "        parsBS1[i]=est(BS)\n",
    "    \n",
    "    interval1=(2*parS-np.quantile(parsBS1,1-alpha/2),2*parS-np.quantile(parsBS1,alpha/2))\n",
    "    end=time.time()\n",
    "    time1=end-start\n",
    "    \n",
    "    start=time.time()\n",
    "    parsBS2=np.zeros(k*BN)\n",
    "    for i in range(k*BN):\n",
    "        BS=np.random.choice(S,int(rate*S.size))\n",
    "        parsBS2[i]=est(BS)\n",
    "        \n",
    "    parsBS2=parS+(parsBS2-parS)*np.sqrt(rate)\n",
    "    interval2=(2*parS-np.quantile(parsBS2,1-alpha/2),2*parS-np.quantile(parsBS2,alpha/2))\n",
    "    end=time.time()\n",
    "    time2=end-start\n",
    "    \n",
    "    start=time.time()\n",
    "    parsBS3=np.zeros(k*BN)\n",
    "    for i in range(k*BN):\n",
    "        BS=np.random.choice(S,int(rate*S.size),replace=False)\n",
    "        parsBS3[i]=est(BS)\n",
    "        \n",
    "    parsBS3=parS+(parsBS3-parS)*np.sqrt(rate)\n",
    "    interval3=(2*parS-np.quantile(parsBS3,1-alpha/2),2*parS-np.quantile(parsBS3,alpha/2))\n",
    "    end=time.time()\n",
    "    time3=end-start\n",
    "    return interval1,interval2,interval3,parsBS1,parsBS2,parsBS3,time1,time2,time3\n",
    "\n",
    "def experiment(par,rvs,est,size=1000,BN=1000,num=1000):\n",
    "    count1=0\n",
    "    count2=0\n",
    "    count3=0\n",
    "    count4=0\n",
    "    count5=0\n",
    "    count6=0\n",
    "    count11=0\n",
    "    count12=0\n",
    "    count13=0\n",
    "    count14=0\n",
    "    count15=0\n",
    "    count16=0\n",
    "    for t in range(num):\n",
    "        S=rvs(size)\n",
    "        interval1,interval2,interval3=bootstrap(S,est,BN)[0:3]\n",
    "        count1+=par>=interval1[0] and par<=interval1[1]\n",
    "        count2+=par>=interval2[0] and par<=interval2[1]\n",
    "        count3+=par>=max(interval1[0],interval2[0]) and par<=min(interval1[1],interval2[1])\n",
    "        count4+=interval2[0]>interval1[0]\n",
    "        count5+=interval2[1]<interval1[1]\n",
    "        count6+=interval2[1]-interval2[0]<interval1[1]-interval1[0]\n",
    "        \n",
    "        count11+=par>=interval1[0] and par<=interval1[1]\n",
    "        count12+=par>=interval3[0] and par<=interval3[1]\n",
    "        count13+=par>=max(interval1[0],interval3[0]) and par<=min(interval1[1],interval3[1])\n",
    "        count14+=interval3[0]>interval1[0]\n",
    "        count15+=interval3[1]<interval1[1]\n",
    "        count16+=interval3[1]-interval3[0]<interval1[1]-interval1[0]\n",
    "        \n",
    "    print('with replacement:')\n",
    "    print(count1/num,count2/num,count3/num)\n",
    "    print(count4/num,count5/num,count6/num)\n",
    "    print('without replacement:')\n",
    "    print(count11/num,count12/num,count13/num)\n",
    "    print(count14/num,count15/num,count16/num)\n",
    "    \n",
    "def histogram(par,rvs,est,size=10000,BN=10000,rate=0.05,alpha=0.05):\n",
    "    S=rvs(size)\n",
    "    interval1,interval2,interval3,parsBS1,parsBS2,parsBS3,time1,time2,time3=bootstrap(S,est,BN,rate,alpha)\n",
    "    print('target parameter:',par)\n",
    "    print('sample estimate:',est(S))\n",
    "    print(interval1,time1)\n",
    "    print(interval2,time2)\n",
    "    print(interval3,time3)\n",
    "    sb.histplot(2*est(S)-parsBS1,color='r')\n",
    "    sb.histplot(2*est(S)-parsBS2,color='b')\n",
    "    sb.histplot(2*est(S)-parsBS3,color='g')\n",
    "    plt.show()"
   ]
  },
  {
   "cell_type": "code",
   "execution_count": 3,
   "metadata": {},
   "outputs": [],
   "source": [
    "np.random.seed(3033079628)\n",
    "rvsTM=lambda size: np.array([np.random.choice([norm.rvs(loc=-2),norm.rvs(loc=2)]) for i in range(size)])"
   ]
  },
  {
   "cell_type": "markdown",
   "metadata": {},
   "source": [
    "**mean**"
   ]
  },
  {
   "cell_type": "code",
   "execution_count": 4,
   "metadata": {},
   "outputs": [
    {
     "name": "stdout",
     "output_type": "stream",
     "text": [
      "with replacement:\n",
      "0.892 0.893 0.886\n",
      "0.503 0.482 0.49\n",
      "without replacement:\n",
      "0.892 0.876 0.874\n",
      "0.818 0.815 0.906\n"
     ]
    }
   ],
   "source": [
    "experiment(norm.mean(),lambda size: norm.rvs(size=size),np.mean)"
   ]
  },
  {
   "cell_type": "code",
   "execution_count": 5,
   "metadata": {},
   "outputs": [
    {
     "name": "stdout",
     "output_type": "stream",
     "text": [
      "with replacement:\n",
      "0.898 0.894 0.888\n",
      "0.373 0.683 0.521\n",
      "without replacement:\n",
      "0.898 0.874 0.874\n",
      "0.732 0.909 0.913\n"
     ]
    }
   ],
   "source": [
    "experiment(gamma.mean(a=1),lambda size: gamma.rvs(a=1,size=size),np.mean)"
   ]
  },
  {
   "cell_type": "code",
   "execution_count": 6,
   "metadata": {},
   "outputs": [
    {
     "name": "stdout",
     "output_type": "stream",
     "text": [
      "with replacement:\n",
      "0.914 0.915 0.909\n",
      "0.47 0.5 0.486\n",
      "without replacement:\n",
      "0.914 0.895 0.895\n",
      "0.812 0.812 0.902\n"
     ]
    }
   ],
   "source": [
    "experiment(0,rvsTM,np.mean)"
   ]
  },
  {
   "cell_type": "markdown",
   "metadata": {},
   "source": [
    "**median**"
   ]
  },
  {
   "cell_type": "code",
   "execution_count": 7,
   "metadata": {},
   "outputs": [
    {
     "name": "stdout",
     "output_type": "stream",
     "text": [
      "with replacement:\n",
      "0.87 0.876 0.848\n",
      "0.49 0.486 0.484\n",
      "without replacement:\n",
      "0.87 0.863 0.839\n",
      "0.622 0.601 0.666\n"
     ]
    }
   ],
   "source": [
    "experiment(norm.median(),lambda size: norm.rvs(size=size),np.median)"
   ]
  },
  {
   "cell_type": "code",
   "execution_count": 8,
   "metadata": {},
   "outputs": [
    {
     "name": "stdout",
     "output_type": "stream",
     "text": [
      "with replacement:\n",
      "0.853 0.851 0.827\n",
      "0.386 0.643 0.509\n",
      "without replacement:\n",
      "0.853 0.838 0.821\n",
      "0.493 0.752 0.662\n"
     ]
    }
   ],
   "source": [
    "experiment(gamma.median(a=1),lambda size: gamma.rvs(a=1,size=size),np.median)"
   ]
  },
  {
   "cell_type": "code",
   "execution_count": 9,
   "metadata": {},
   "outputs": [
    {
     "name": "stdout",
     "output_type": "stream",
     "text": [
      "with replacement:\n",
      "0.759 0.655 0.653\n",
      "0.919 0.928 0.963\n",
      "without replacement:\n",
      "0.759 0.641 0.64\n",
      "0.938 0.957 0.972\n"
     ]
    }
   ],
   "source": [
    "experiment(0,rvsTM,np.median)"
   ]
  },
  {
   "cell_type": "markdown",
   "metadata": {},
   "source": [
    "**std**"
   ]
  },
  {
   "cell_type": "code",
   "execution_count": 10,
   "metadata": {},
   "outputs": [
    {
     "name": "stdout",
     "output_type": "stream",
     "text": [
      "with replacement:\n",
      "0.889 0.886 0.879\n",
      "0.742 0.276 0.511\n",
      "without replacement:\n",
      "0.889 0.875 0.872\n",
      "0.925 0.6 0.893\n"
     ]
    }
   ],
   "source": [
    "experiment(norm.std(),lambda size: norm.rvs(size=size),np.std)"
   ]
  },
  {
   "cell_type": "code",
   "execution_count": 11,
   "metadata": {},
   "outputs": [
    {
     "name": "stdout",
     "output_type": "stream",
     "text": [
      "with replacement:\n",
      "0.898 0.893 0.89\n",
      "0.606 0.628 0.688\n",
      "without replacement:\n",
      "0.898 0.875 0.875\n",
      "0.834 0.834 0.941\n"
     ]
    }
   ],
   "source": [
    "experiment(gamma.std(a=1),lambda size: gamma.rvs(a=1,size=size),np.std)"
   ]
  },
  {
   "cell_type": "code",
   "execution_count": 12,
   "metadata": {},
   "outputs": [
    {
     "name": "stdout",
     "output_type": "stream",
     "text": [
      "with replacement:\n",
      "0.909 0.909 0.9\n",
      "0.798 0.119 0.413\n",
      "without replacement:\n",
      "0.909 0.893 0.89\n",
      "0.948 0.424 0.857\n"
     ]
    }
   ],
   "source": [
    "experiment(np.sqrt(5),rvsTM,np.std)"
   ]
  },
  {
   "cell_type": "markdown",
   "metadata": {},
   "source": [
    "**variance**"
   ]
  },
  {
   "cell_type": "code",
   "execution_count": 13,
   "metadata": {},
   "outputs": [
    {
     "name": "stdout",
     "output_type": "stream",
     "text": [
      "with replacement:\n",
      "0.908 0.908 0.9\n",
      "0.539 0.545 0.565\n",
      "without replacement:\n",
      "0.908 0.88 0.88\n",
      "0.822 0.857 0.931\n"
     ]
    }
   ],
   "source": [
    "experiment(norm.var(),lambda size: norm.rvs(size=size),np.var)"
   ]
  },
  {
   "cell_type": "code",
   "execution_count": 14,
   "metadata": {},
   "outputs": [
    {
     "name": "stdout",
     "output_type": "stream",
     "text": [
      "with replacement:\n",
      "0.872 0.86 0.855\n",
      "0.25 0.953 0.662\n",
      "without replacement:\n",
      "0.872 0.844 0.843\n",
      "0.494 0.986 0.918\n"
     ]
    }
   ],
   "source": [
    "experiment(gamma.var(a=1),lambda size: gamma.rvs(a=1,size=size),np.var)"
   ]
  },
  {
   "cell_type": "code",
   "execution_count": 15,
   "metadata": {},
   "outputs": [
    {
     "name": "stdout",
     "output_type": "stream",
     "text": [
      "with replacement:\n",
      "0.894 0.897 0.889\n",
      "0.7 0.233 0.474\n",
      "without replacement:\n",
      "0.894 0.88 0.878\n",
      "0.903 0.638 0.894\n"
     ]
    }
   ],
   "source": [
    "experiment(5,rvsTM,np.var)"
   ]
  },
  {
   "cell_type": "markdown",
   "metadata": {},
   "source": [
    "**histogram**"
   ]
  },
  {
   "cell_type": "code",
   "execution_count": 3,
   "metadata": {},
   "outputs": [
    {
     "name": "stdout",
     "output_type": "stream",
     "text": [
      "target parameter: 0.0\n",
      "sample estimate: 0.002171833061937019\n",
      "(-0.017680113771090206, 0.02181442875387579) 1.9154150485992432\n",
      "(-0.017638040915050206, 0.02185015006373555) 0.29905104637145996\n",
      "(-0.016997113139969624, 0.0215706534142282) 1.7500619888305664\n"
     ]
    },
    {
     "data": {
      "image/png": "[encoded data removed]",
      "text/plain": [
       "<Figure size 432x288 with 1 Axes>"
      ]
     },
     "metadata": {
      "needs_background": "light"
     },
     "output_type": "display_data"
    }
   ],
   "source": [
    "np.random.seed(3033079628)\n",
    "\n",
    "histogram(norm.mean(),lambda size: norm.rvs(size=size),np.mean)\n",
    "# histogram(norm.var(),lambda size: norm.rvs(size=size),np.var)\n",
    "# histogram(gamma.var(a=1),lambda size: gamma.rvs(a=1,size=size),np.var)\n",
    "# histogram(0,rvsTM,np.mean)\n",
    "# histogram(5,rvsTM,np.var)"
   ]
  }
 ],
 "metadata": {
  "kernelspec": {
   "display_name": "Python 3",
   "language": "python",
   "name": "python3"
  },
  "language_info": {
   "codemirror_mode": {
    "name": "ipython",
    "version": 3
   },
   "file_extension": ".py",
   "mimetype": "text/x-python",
   "name": "python",
   "nbconvert_exporter": "python",
   "pygments_lexer": "ipython3",
   "version": "3.9.1"
  }
 },
 "nbformat": 4,
 "nbformat_minor": 4
}
